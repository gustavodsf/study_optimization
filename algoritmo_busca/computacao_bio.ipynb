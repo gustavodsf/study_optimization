{
 "cells": [
  {
   "cell_type": "markdown",
   "metadata": {},
   "source": [
    "#### Problema?\n",
    "* Maximizar o resultado de uma equaçõa matemática\n",
    "* Qual valor de X, gera um resultado maior ?\n",
    "* Não temos a resposta exata, ou seja, na teoria não sabemos o quanto essa função pode ser maximizada, mas temos em mente que quanto maior melhor\n",
    "#### Representação\n",
    "* O domínio do problema se dá em um intervalo de [0, 1]\n",
    "* X pode assumir qualquer valor dentro desse domínio\n",
    "#### Objetivo\n",
    "* Maximizar o resultado da equação através do melhor valor possível de X.\n",
    "* O melhor valor será definido por aquele que tiver o maior resultado final dentre todas as soluções encontradas\n",
    "#### Codificando\n",
    "* Vamos começar com a importação das bibliotecas"
   ]
  },
  {
   "cell_type": "code",
   "execution_count": 1,
   "metadata": {},
   "outputs": [],
   "source": [
    "import math\n",
    "import random\n",
    "import matplotlib.pyplot as plt\n",
    "import numpy as np\n",
    "%matplotlib inline"
   ]
  },
  {
   "cell_type": "markdown",
   "metadata": {},
   "source": [
    "#### Criação da função de custo / avaliação\n",
    "* É basicamente o coração dos algoritmos de otimização\n",
    "* A função de custo é onde a avaliação do algoritmo vai acontecer de fato\n",
    "* Nesse caso a função de custo é dada simplesmente pelo resultado da equação que deve ser maximizado"
   ]
  },
  {
   "cell_type": "code",
   "execution_count": 2,
   "metadata": {},
   "outputs": [],
   "source": [
    "def funcao_custo(x):\n",
    "    custo = 2 ** -2 * (x - 0.1 / 0.9) ** 2 * (math.sin(5 * math.pi * x))** 6\n",
    "    return custo"
   ]
  },
  {
   "cell_type": "markdown",
   "metadata": {},
   "source": [
    "#### Função de plotar o gráfico\n",
    "* Usado para plotar o gráfico com os resultados"
   ]
  },
  {
   "cell_type": "code",
   "execution_count": 3,
   "metadata": {},
   "outputs": [],
   "source": [
    "def plotar_busca(resultados):\n",
    "    t = np.arange(0.0, len(resultados), 1)\n",
    "    plt.figure(figsize=(12,8))\n",
    "    plt.plot(t, resultados)\n",
    "    plt.show()"
   ]
  },
  {
   "cell_type": "markdown",
   "metadata": {},
   "source": [
    "#### Função de get vizinhos\n",
    "* Essa função é usada para pegar os vizinhos de cada dimensão da minha variável, no nosso caso temos uma única dimensão, que é a variável X\n",
    "* Sendo assim vamos pegar os dois vizinhos possíveis do nosso X, considerando possíveis movimentos que ele pode fazer\n",
    "* O vizinho nada mais é que uma perturbação no valor inicial, pode se um valor constante ou alguma outra formula, como a guasiana"
   ]
  },
  {
   "cell_type": "code",
   "execution_count": 4,
   "metadata": {},
   "outputs": [],
   "source": [
    "def get_vizinhos(solucao, aprendizado):\n",
    "    vizinhos = []\n",
    "    aprendizado = aprendizado / 10 if aprendizado >= 10 else 1\n",
    "    constante = 0.005 / aprendizado\n",
    "    vizinho_superior = solucao + constante if solucao + constante < 1 else solucao\n",
    "    vizinho_inferior = solucao - constante if solucao - constante > 0 else solucao\n",
    "    \n",
    "    vizinhos.append(vizinho_superior)\n",
    "    vizinhos.append(vizinho_inferior)\n",
    "    return vizinhos"
   ]
  },
  {
   "cell_type": "markdown",
   "metadata": {},
   "source": [
    "#### Função get valor aleatório\n",
    "* Função que vai garantir que meus valores aleatórios tenham um espaço mínimo entre eles.\n",
    "* Essa função é usada pois o Hill Climbing depende de ser executado várias vezes para que ele inicie de diferentes pontos.\n",
    "* Sem ela, esse inicialização pode acabar sendo muito próxima, fazendo com o que espaço de soluções não seja devidamente explorado"
   ]
  },
  {
   "cell_type": "code",
   "execution_count": 5,
   "metadata": {},
   "outputs": [],
   "source": [
    "def get_valor_aleatorio(espaco, x=0):\n",
    "    inicio = random.random()\n",
    "    valor = []\n",
    "    \n",
    "    for i in espaco:\n",
    "        diferenca = i - inicio\n",
    "        if diferenca > 0.05 or diferenca < -0.05:\n",
    "            valor.append(diferenca)\n",
    "\n",
    "    if len(valor) == len(espaco) or x > 300:\n",
    "        return inicio\n",
    "    else:\n",
    "        return get_valor_aleatorio(espaco, x = x + 1)"
   ]
  },
  {
   "cell_type": "markdown",
   "metadata": {},
   "source": [
    "#### Hill Climbing\n",
    "* Função que vai fazer o cálculo do algoritmo de subida da encosta"
   ]
  },
  {
   "cell_type": "code",
   "execution_count": 6,
   "metadata": {},
   "outputs": [],
   "source": [
    "def hill_climbing(funcao_custo, solucao_inicial):\n",
    "    # random.seed(a=0)\n",
    "    solucao = solucao_inicial\n",
    "    custos = []\n",
    "    count = 1\n",
    "    parar_no_plato = 0\n",
    "\n",
    "    while count <= 400:\n",
    "        vizinhos = get_vizinhos(solucao, count)\n",
    "        \n",
    "        atual = funcao_custo(solucao)\n",
    "        melhor = atual \n",
    "        solucao_atual = solucao\n",
    "        custos.append(atual)\n",
    "\n",
    "        for i in range(len(vizinhos)):\n",
    "            custo = funcao_custo(vizinhos[i])\n",
    "            if custo >= melhor:\n",
    "                parar_no_plato = parar_no_plato + 1 if custo == melhor else 0\n",
    "                melhor = custo\n",
    "                solucao = vizinhos[i]\n",
    "\n",
    "        count += 1\n",
    "        if melhor == atual and solucao_atual == solucao or parar_no_plato == 20:\n",
    "            if parar_no_plato == 20: print('plato')\n",
    "            break\n",
    "\n",
    "    return solucao, custos"
   ]
  },
  {
   "cell_type": "code",
   "execution_count": 8,
   "metadata": {},
   "outputs": [
    {
     "name": "stdout",
     "output_type": "stream",
     "text": [
      "Valor X: 0.9023823109276499\n",
      "custos [4.545816115350401e-07, 9.866322239977776e-06, 7.226275277671972e-05, 0.0003106849150928965, 0.000969242249619285, 0.0024343625640652865, 0.005219910000505155, 0.009909327443889008, 0.017058897832457044, 0.02707701910211715, 0.0401024500125, 0.054369931780162556, 0.06907679971700421, 0.08353846656502822, 0.09722039273943749, 0.10973816392951344, 0.12084133813527329, 0.130390829938019, 0.13833536555887563, 0.14468982188783427, 0.1495166394613656, 0.15291059373986496, 0.15498674426621753, 0.15587117432084238]\n"
     ]
    },
    {
     "data": {
      "image/png": "[encoded data removed]",
      "text/plain": [
       "<Figure size 864x576 with 1 Axes>"
      ]
     },
     "metadata": {
      "needs_background": "light"
     },
     "output_type": "display_data"
    }
   ],
   "source": [
    "custos = []\n",
    "solucao = []\n",
    "espaco_solucao = []\n",
    "\n",
    "for i in range(10):\n",
    "    espaco_solucao.append(get_valor_aleatorio(espaco_solucao))\n",
    "    \n",
    "    solucao_subida_encosta = hill_climbing(funcao_custo, espaco_solucao[len(espaco_solucao) - 1])\n",
    "    solucao.append(solucao_subida_encosta[0])\n",
    "    custos.append(solucao_subida_encosta[1])\n",
    "\n",
    "    if len(custos) > 1:\n",
    "        if max(custos[1]) > max(custos[0]):\n",
    "            custos.pop(0)\n",
    "        else:\n",
    "            custos.pop(1)\n",
    "            \n",
    "print('Valor X:', solucao_subida_encosta[0])\n",
    "print('custos', solucao_subida_encosta[1])\n",
    "plotar_busca(solucao_subida_encosta[1])"
   ]
  },
  {
   "cell_type": "markdown",
   "metadata": {},
   "source": [
    "#### Tentativas de otimização\n",
    "* Código feito com objetivo de ajudar nosso algoritmo de busca #### Parada no platô\n",
    "* Caso nosso algoritmo tenha diversas interações sem gerar melhoria, ele da um break em sua execução #### Redução da \"taxa de aprendizado\" de forma dinâmica\n",
    "* Reduzir a \"taxa de aprendizado\"/perturbação nos nosso vizinhos, como forma de tentar evitar que o algoritmo perca um máximo/mínimo local/globa por conta de dar um \"passo\" muito grande #### Exploração do espaço de características\n",
    "* Garantir que os pontos gerados de forma aleatória estejam distantes uns dos outros para explorar um espaço maior\n",
    "#### Simulated annealing\n",
    "Recozimento simulado é inspirado em um fenômeno da física, onde se esquenta um metal ou vidro até quase ele se liquefazer e depois se esfria devagar, para que os átomos percam a vibração aos poucos e o material fique rígido\n",
    "* A diferença dele para o Hill Climbing é que ele tem uma probabilidade P de aceitar valores negativos\n",
    "* Quanto mais no início do algoritmo, maior a sua chance de aceitar um valor negativo\n",
    "#### Probabilidade\n",
    "* A probabilidade do simulated annealing é dada pela função exponencial exp(x)\n",
    "* Nessa função, elevamos o número de euler ~2.7 à um valor de x.\n",
    "* O X no nosso caso é o resultado da subtração entre o novo custo e o custo anterior divido pela temperatura: (x' - x) / T\n",
    "* A temperatura vai diminuindo gradativamente, limitando nossas interações e garantindo que a probabilidade de se aceitar valores negativos também diminua"
   ]
  },
  {
   "cell_type": "code",
   "execution_count": null,
   "metadata": {},
   "outputs": [],
   "source": []
  }
 ],
 "metadata": {
  "kernelspec": {
   "display_name": "Python 3",
   "language": "python",
   "name": "python3"
  },
  "language_info": {
   "codemirror_mode": {
    "name": "ipython",
    "version": 3
   },
   "file_extension": ".py",
   "mimetype": "text/x-python",
   "name": "python",
   "nbconvert_exporter": "python",
   "pygments_lexer": "ipython3",
   "version": "3.7.6"
  }
 },
 "nbformat": 4,
 "nbformat_minor": 4
}
